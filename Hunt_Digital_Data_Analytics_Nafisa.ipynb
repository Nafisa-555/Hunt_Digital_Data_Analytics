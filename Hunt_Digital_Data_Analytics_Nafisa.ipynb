{
 "cells": [
  {
   "cell_type": "code",
   "execution_count": 33,
   "id": "71f3b46a-b949-4746-a7a6-3e747baf1f90",
   "metadata": {},
   "outputs": [],
   "source": [
    "import pandas as pd"
   ]
  },
  {
   "cell_type": "code",
   "execution_count": 34,
   "id": "91a5243c-50cf-4570-a126-b53d3d68de1a",
   "metadata": {},
   "outputs": [],
   "source": [
    "import matplotlib.pyplot as plt"
   ]
  },
  {
   "cell_type": "code",
   "execution_count": 35,
   "id": "42b1957a-b289-4c1d-b561-992e49d44dc3",
   "metadata": {},
   "outputs": [],
   "source": [
    "import seaborn as sns "
   ]
  },
  {
   "cell_type": "code",
   "execution_count": 36,
   "id": "37369c97-d888-46c9-a528-d0ec9bf3459f",
   "metadata": {},
   "outputs": [],
   "source": [
    "#Loading Data: "
   ]
  },
  {
   "cell_type": "code",
   "execution_count": 85,
   "id": "97815c6c-1b01-4dcd-ae69-643db1162344",
   "metadata": {},
   "outputs": [],
   "source": [
    "df = pd.read_excel(\"DataA.xlsx\", skiprows=3)"
   ]
  },
  {
   "cell_type": "code",
   "execution_count": 38,
   "id": "a5932c2d-e61d-42e6-986f-73f15a31976e",
   "metadata": {},
   "outputs": [],
   "source": [
    "# Initial Data Cleaning and Data Type Conversion:- "
   ]
  },
  {
   "cell_type": "code",
   "execution_count": 39,
   "id": "cd51049c-ca88-4176-9a33-b160bf2a22f0",
   "metadata": {},
   "outputs": [],
   "source": [
    "df.dropna(how='all', inplace=True)\n",
    "df.reset_index(drop=True, inplace=True)"
   ]
  },
  {
   "cell_type": "code",
   "execution_count": 73,
   "id": "9dbeda59-3b76-4dc8-bd20-3d960e468817",
   "metadata": {},
   "outputs": [
    {
     "name": "stdout",
     "output_type": "stream",
     "text": [
      "\n",
      "Initial Data Head with junk rows: \n",
      "   Unnamed: 0                 Date  unique_idfas  unique_ips  unique_uas  \\\n",
      "0         NaN     11 Sep to 15 Sep     1191603.0   1189884.0        28.0   \n",
      "1         NaN  2025-09-11 00:00:00       93345.0     93340.0        22.0   \n",
      "2         NaN  2025-09-12 00:00:00      515646.0    515307.0        25.0   \n",
      "3         NaN  2025-09-13 00:00:00      406993.0    406729.0        25.0   \n",
      "4         NaN  2025-09-14 00:00:00      400917.0    400668.0        26.0   \n",
      "\n",
      "   total_requests  requests_per_idfa  impressions  impressions_per_idfa  \\\n",
      "0       1770702.0           1.485983          0.0                   0.0   \n",
      "1         99280.0           1.063581          0.0                   0.0   \n",
      "2        649515.0           1.259614          0.0                   0.0   \n",
      "3        473346.0           1.163032          0.0                   0.0   \n",
      "4        467152.0           1.165209          0.0                   0.0   \n",
      "\n",
      "   idfa_ip_ratio  idfa_ua_ratio       IVT ivt_category  \n",
      "0       1.001445   42557.250000  0.004276          IVT  \n",
      "1       1.000054    4242.954545  0.003456          IVT  \n",
      "2       1.000658   20625.840000  0.003409          IVT  \n",
      "3       1.000649   16279.720000  0.006033          IVT  \n",
      "4       1.000621   15419.884615  0.003836          IVT  \n"
     ]
    }
   ],
   "source": [
    "print(\"\\nInitial Data Head with junk rows: \")\n",
    "print(df.head())"
   ]
  },
  {
   "cell_type": "code",
   "execution_count": 41,
   "id": "3b247a5c-6c28-48e6-b746-46599cd88db0",
   "metadata": {},
   "outputs": [
    {
     "name": "stdout",
     "output_type": "stream",
     "text": [
      "\n",
      "Initial Data Types: \n",
      "<class 'pandas.core.frame.DataFrame'>\n",
      "RangeIndex: 94 entries, 0 to 93\n",
      "Data columns (total 12 columns):\n",
      " #   Column                Non-Null Count  Dtype  \n",
      "---  ------                --------------  -----  \n",
      " 0   Unnamed: 0            0 non-null      float64\n",
      " 1   Date                  94 non-null     object \n",
      " 2   unique_idfas          92 non-null     object \n",
      " 3   unique_ips            92 non-null     object \n",
      " 4   unique_uas            92 non-null     object \n",
      " 5   total_requests        92 non-null     object \n",
      " 6   requests_per_idfa     92 non-null     object \n",
      " 7   impressions           92 non-null     object \n",
      " 8   impressions_per_idfa  92 non-null     object \n",
      " 9   idfa_ip_ratio         92 non-null     object \n",
      " 10  idfa_ua_ratio         92 non-null     object \n",
      " 11  IVT                   92 non-null     object \n",
      "dtypes: float64(1), object(11)\n",
      "memory usage: 8.9+ KB\n"
     ]
    }
   ],
   "source": [
    "print(\"\\nInitial Data Types: \")\n",
    "df.info()"
   ]
  },
  {
   "cell_type": "code",
   "execution_count": 74,
   "id": "a618b882-c606-45f5-8a43-bfc89b827470",
   "metadata": {},
   "outputs": [],
   "source": [
    "cols_to_convert = [\n",
    "    'unique_idfas', 'unique_ips', 'unique_uas', \n",
    "    'total_requests', 'requests_per_idfa', 'impressions', \n",
    "    'impressions_per_idfa', 'idfa_ip_ratio', 'idfa_ua_ratio', 'IVT'\n",
    "]"
   ]
  },
  {
   "cell_type": "code",
   "execution_count": 75,
   "id": "002ac364-3495-4fa3-a1bf-67a19feaf2bd",
   "metadata": {},
   "outputs": [],
   "source": [
    "for col in cols_to_convert:\n",
    "    df[col] = pd.to_numeric(df[col], errors='coerce')"
   ]
  },
  {
   "cell_type": "code",
   "execution_count": 76,
   "id": "000d52f1-2b8b-4ad7-a013-9ed76591c157",
   "metadata": {},
   "outputs": [],
   "source": [
    "df.dropna(subset=['IVT'], inplace=True) \n",
    "df.reset_index(drop=True, inplace=True)"
   ]
  },
  {
   "cell_type": "code",
   "execution_count": 77,
   "id": "426ba6c3-9be9-4383-a62c-12561e73f137",
   "metadata": {},
   "outputs": [
    {
     "name": "stdout",
     "output_type": "stream",
     "text": [
      "\n",
      "Cleaned Data Head:- \n",
      "   Unnamed: 0                 Date  unique_idfas  unique_ips  unique_uas  \\\n",
      "0         NaN     11 Sep to 15 Sep     1191603.0   1189884.0        28.0   \n",
      "1         NaN  2025-09-11 00:00:00       93345.0     93340.0        22.0   \n",
      "2         NaN  2025-09-12 00:00:00      515646.0    515307.0        25.0   \n",
      "3         NaN  2025-09-13 00:00:00      406993.0    406729.0        25.0   \n",
      "4         NaN  2025-09-14 00:00:00      400917.0    400668.0        26.0   \n",
      "\n",
      "   total_requests  requests_per_idfa  impressions  impressions_per_idfa  \\\n",
      "0       1770702.0           1.485983          0.0                   0.0   \n",
      "1         99280.0           1.063581          0.0                   0.0   \n",
      "2        649515.0           1.259614          0.0                   0.0   \n",
      "3        473346.0           1.163032          0.0                   0.0   \n",
      "4        467152.0           1.165209          0.0                   0.0   \n",
      "\n",
      "   idfa_ip_ratio  idfa_ua_ratio       IVT ivt_category  \n",
      "0       1.001445   42557.250000  0.004276          IVT  \n",
      "1       1.000054    4242.954545  0.003456          IVT  \n",
      "2       1.000658   20625.840000  0.003409          IVT  \n",
      "3       1.000649   16279.720000  0.006033          IVT  \n",
      "4       1.000621   15419.884615  0.003836          IVT  \n"
     ]
    }
   ],
   "source": [
    "print(\"\\nCleaned Data Head:- \")\n",
    "print(df.head())"
   ]
  },
  {
   "cell_type": "code",
   "execution_count": 78,
   "id": "ec758c8e-f4ee-4f5c-b4f2-bd99389b3d28",
   "metadata": {},
   "outputs": [
    {
     "name": "stdout",
     "output_type": "stream",
     "text": [
      "\n",
      "Cleaned Data Types:- \n",
      "<class 'pandas.core.frame.DataFrame'>\n",
      "RangeIndex: 90 entries, 0 to 89\n",
      "Data columns (total 13 columns):\n",
      " #   Column                Non-Null Count  Dtype  \n",
      "---  ------                --------------  -----  \n",
      " 0   Unnamed: 0            0 non-null      float64\n",
      " 1   Date                  90 non-null     object \n",
      " 2   unique_idfas          90 non-null     float64\n",
      " 3   unique_ips            90 non-null     float64\n",
      " 4   unique_uas            90 non-null     float64\n",
      " 5   total_requests        90 non-null     float64\n",
      " 6   requests_per_idfa     90 non-null     float64\n",
      " 7   impressions           90 non-null     float64\n",
      " 8   impressions_per_idfa  90 non-null     float64\n",
      " 9   idfa_ip_ratio         90 non-null     float64\n",
      " 10  idfa_ua_ratio         90 non-null     float64\n",
      " 11  IVT                   90 non-null     float64\n",
      " 12  ivt_category          90 non-null     object \n",
      "dtypes: float64(11), object(2)\n",
      "memory usage: 9.3+ KB\n"
     ]
    }
   ],
   "source": [
    "print(\"\\nCleaned Data Types:- \")\n",
    "df.info()"
   ]
  },
  {
   "cell_type": "code",
   "execution_count": 79,
   "id": "48ffbdbb-1cd5-4705-9f3b-e281f09a9290",
   "metadata": {},
   "outputs": [],
   "source": [
    "# Shows stats for all numeric columns"
   ]
  },
  {
   "cell_type": "code",
   "execution_count": 80,
   "id": "e3863211-727b-4d03-a308-1652fe9a349a",
   "metadata": {},
   "outputs": [
    {
     "name": "stdout",
     "output_type": "stream",
     "text": [
      "\n",
      "Full Summary Statistics:\n",
      "       Unnamed: 0  unique_idfas    unique_ips  unique_uas  total_requests  \\\n",
      "count         0.0  9.000000e+01  9.000000e+01   90.000000    9.000000e+01   \n",
      "mean          NaN  4.867137e+04  4.864164e+04   19.433333    5.902340e+04   \n",
      "std           NaN  1.452255e+05  1.450471e+05    2.088223    2.059180e+05   \n",
      "min           NaN  3.535000e+03  3.535000e+03   17.000000    3.577000e+03   \n",
      "25%           NaN  9.190000e+03  9.190000e+03   18.000000    9.550000e+03   \n",
      "50%           NaN  1.375300e+04  1.375300e+04   19.000000    1.401250e+04   \n",
      "75%           NaN  2.268400e+04  2.268075e+04   20.000000    2.349550e+04   \n",
      "max           NaN  1.191603e+06  1.189884e+06   28.000000    1.770702e+06   \n",
      "\n",
      "       requests_per_idfa  impressions  impressions_per_idfa  idfa_ip_ratio  \\\n",
      "count          90.000000         90.0                  90.0      90.000000   \n",
      "mean            1.042722          0.0                   0.0       1.000079   \n",
      "std             0.060474          0.0                   0.0       0.000193   \n",
      "min             1.004514          0.0                   0.0       1.000000   \n",
      "25%             1.013430          0.0                   0.0       1.000000   \n",
      "50%             1.028146          0.0                   0.0       1.000000   \n",
      "75%             1.045899          0.0                   0.0       1.000078   \n",
      "max             1.485983          0.0                   0.0       1.001445   \n",
      "\n",
      "       idfa_ua_ratio        IVT  \n",
      "count      90.000000  90.000000  \n",
      "mean     2098.501077   0.004257  \n",
      "std      5327.754203   0.004225  \n",
      "min       207.941176   0.000000  \n",
      "25%       501.333333   0.000000  \n",
      "50%       745.923445   0.004260  \n",
      "75%      1137.791667   0.006250  \n",
      "max     42557.250000   0.017391  \n"
     ]
    }
   ],
   "source": [
    "print(\"\\nFull Summary Statistics:\")\n",
    "print(df.describe())"
   ]
  },
  {
   "cell_type": "code",
   "execution_count": 81,
   "id": "6c867639-c6be-43ee-9316-96dc4bc15cb5",
   "metadata": {},
   "outputs": [
    {
     "name": "stdout",
     "output_type": "stream",
     "text": [
      "\n",
      "Correlation Matrix with IVT:\n",
      "IVT                     1.000000\n",
      "unique_uas              0.005670\n",
      "total_requests         -0.002853\n",
      "unique_idfas           -0.003354\n",
      "unique_ips             -0.003359\n",
      "idfa_ua_ratio          -0.005764\n",
      "idfa_ip_ratio          -0.024066\n",
      "requests_per_idfa      -0.024352\n",
      "Unnamed: 0                   NaN\n",
      "impressions                  NaN\n",
      "impressions_per_idfa         NaN\n",
      "Name: IVT, dtype: float64\n"
     ]
    }
   ],
   "source": [
    "# Corelation Analysis: \n",
    "print(\"\\nCorrelation Matrix with IVT:\")\n",
    "correlation = df.corr(numeric_only=True)\n",
    "print(correlation['IVT'].sort_values(ascending=False))"
   ]
  },
  {
   "cell_type": "code",
   "execution_count": 82,
   "id": "b50f8e6a-98a6-4ab1-aa13-5deff8a65181",
   "metadata": {},
   "outputs": [
    {
     "name": "stdout",
     "output_type": "stream",
     "text": [
      "\n",
      "IVT Category Counts: \n",
      "ivt_category\n",
      "IVT        59\n",
      "Non-IVT    31\n",
      "Name: count, dtype: int64\n"
     ]
    }
   ],
   "source": [
    "# Create a Binary IVT Category for Plotting:\n",
    "# 'Non-IVT' (where IVT == 0) or 'IVT' (where IVT > 0).\n",
    "\n",
    "df['ivt_category'] = df['IVT'].apply(lambda x: 'IVT' if x > 0 else 'Non-IVT')\n",
    "print(\"\\nIVT Category Counts: \")\n",
    "print(df['ivt_category'].value_counts())"
   ]
  },
  {
   "cell_type": "markdown",
   "id": "8bfb3045-7848-4784-bec6-3259cf7cfadf",
   "metadata": {},
   "source": [
    "## Visualization"
   ]
  },
  {
   "cell_type": "code",
   "execution_count": 83,
   "id": "261d7c4b-2c6b-4ff6-a403-56c5201ab6b5",
   "metadata": {},
   "outputs": [
    {
     "name": "stdout",
     "output_type": "stream",
     "text": [
      "\n",
      "Boxplot:- \n"
     ]
    },
    {
     "data": {
      "image/png": "[encoded data removed]",
      "text/plain": [
       "<Figure size 800x500 with 1 Axes>"
      ]
     },
     "metadata": {},
     "output_type": "display_data"
    }
   ],
   "source": [
    "print(\"\\nBoxplot:- \")\n",
    "\n",
    "plt.figure(figsize=(8, 5))\n",
    "sns.boxplot(data=df, x='ivt_category', y='requests_per_idfa', order=['Non-IVT', 'IVT']) \n",
    "plt.title('Requests per IDFA Comparison (Corrected)')\n",
    "plt.ylabel('Requests per IDFA')\n",
    "plt.xlabel('App Category')\n",
    "plt.show()"
   ]
  },
  {
   "cell_type": "code",
   "execution_count": 84,
   "id": "28773811-64d1-42b6-8ce9-b44e6995ef9e",
   "metadata": {},
   "outputs": [
    {
     "name": "stdout",
     "output_type": "stream",
     "text": [
      "\n",
      "Scatter Plot-IVT vs Requests per IDFA\n"
     ]
    },
    {
     "data": {
      "image/png": "[encoded data removed]",
      "text/plain": [
       "<Figure size 800x500 with 1 Axes>"
      ]
     },
     "metadata": {},
     "output_type": "display_data"
    }
   ],
   "source": [
    "# Scatter Plot:- \n",
    "print(\"\\nScatter Plot-IVT vs Requests per IDFA\")\n",
    "plt.figure(figsize=(8, 5))\n",
    "sns.scatterplot(data=df, x='IVT', y='requests_per_idfa', hue='ivt_category', s=50, alpha=0.7)\n",
    "plt.title('IVT Rate vs. Requests per IDFA')\n",
    "plt.xlabel('IVT Rate')\n",
    "plt.ylabel('Requests per IDFA')\n",
    "plt.grid(True, linestyle='--', alpha=0.6)\n",
    "plt.legend(title='App Category')\n",
    "plt.show()"
   ]
  },
  {
   "cell_type": "code",
   "execution_count": 86,
   "id": "ebbd8878-e1de-4445-b2b6-35692b64e38f",
   "metadata": {},
   "outputs": [
    {
     "name": "stdout",
     "output_type": "stream",
     "text": [
      "\n",
      "Insights Summary:\n",
      "\n",
      "- IVT apps generally have higher 'requests_per_idfa' and 'idfa_ua_ratio', suggesting automated or spoofed requests.\n",
      "- 'unique_ips' are fewer in IVT apps, indicating multiple devices from same IP (datacenter traffic).\n",
      "- 'impressions_per_idfa' are lower for IVT apps — requests not leading to real impressions.\n",
      "- Non-IVT apps show stable, consistent ratios close to 1 (normal behavior).\n",
      "\n"
     ]
    }
   ],
   "source": [
    "print(\"\\nInsights Summary:\")\n",
    "print(\"\"\"\n",
    "- IVT apps generally have higher 'requests_per_idfa' and 'idfa_ua_ratio', suggesting automated or spoofed requests.\n",
    "- 'unique_ips' are fewer in IVT apps, indicating multiple devices from same IP (datacenter traffic).\n",
    "- 'impressions_per_idfa' are lower for IVT apps — requests not leading to real impressions.\n",
    "- Non-IVT apps show stable, consistent ratios close to 1 (normal behavior).\n",
    "\"\"\")"
   ]
  },
  {
   "cell_type": "code",
   "execution_count": null,
   "id": "af8e59f3-970e-4e38-9eb0-18ac92c82948",
   "metadata": {},
   "outputs": [],
   "source": []
  },
  {
   "cell_type": "code",
   "execution_count": null,
   "id": "c6f8a4b4-c3a4-482b-9fe9-4cc645932924",
   "metadata": {},
   "outputs": [],
   "source": []
  }
 ],
 "metadata": {
  "kernelspec": {
   "display_name": "Python [conda env:base] *",
   "language": "python",
   "name": "conda-base-py"
  },
  "language_info": {
   "codemirror_mode": {
    "name": "ipython",
    "version": 3
   },
   "file_extension": ".py",
   "mimetype": "text/x-python",
   "name": "python",
   "nbconvert_exporter": "python",
   "pygments_lexer": "ipython3",
   "version": "3.12.7"
  }
 },
 "nbformat": 4,
 "nbformat_minor": 5
}
